{
  "cells": [
    {
      "cell_type": "markdown",
      "metadata": {
        "id": "oXJsYTjADhXX"
      },
      "source": [
        "# 🌸 Iris Classification with Logistic Regression and Decision Tree"
      ],
      "id": "oXJsYTjADhXX"
    },
    {
      "cell_type": "markdown",
      "source": [
        "Dataset Information\n",
        "\n",
        "the dataset contains 3 classes of 50 instances each ,where each class refers to atype of iris plants . One class is linearty saparable from the other 2: the latter are NOT linearly separable from each other.\n",
        "\n",
        "**Altribute information:**\n",
        "\n",
        "sepal length in cm\n",
        "\n",
        "sepal width in cm\n",
        "\n",
        "petal length in cm\n",
        "\n",
        "petal width in cm\n",
        "\n",
        "*class*:- Iris Setosa - Iris Versicolour - Iris Virginica"
      ],
      "metadata": {
        "id": "YKy-OszMR4uM"
      },
      "id": "YKy-OszMR4uM"
    },
    {
      "cell_type": "markdown",
      "source": [],
      "metadata": {
        "id": "7K46SL1WR4mH"
      },
      "id": "7K46SL1WR4mH"
    },
    {
      "cell_type": "code",
      "execution_count": 3,
      "metadata": {
        "id": "vTtvryZzDhXZ"
      },
      "outputs": [],
      "source": [
        "# Step 1: Import Libraries\n",
        "from sklearn.datasets import load_iris\n",
        "from sklearn.model_selection import train_test_split\n",
        "from sklearn.preprocessing import StandardScaler\n",
        "from sklearn.tree import DecisionTreeClassifier\n",
        "from sklearn.metrics import accuracy_score, classification_report\n",
        "import pandas as pd"
      ],
      "id": "vTtvryZzDhXZ"
    },
    {
      "cell_type": "code",
      "execution_count": 11,
      "metadata": {
        "id": "FzVpwvGQDhXb",
        "colab": {
          "base_uri": "https://localhost:8080/"
        },
        "outputId": "dd09239b-bd70-46d0-96cf-0561eb6a4489"
      },
      "outputs": [
        {
          "output_type": "stream",
          "name": "stdout",
          "text": [
            "Number of samples: 150\n",
            "Number of features: 4\n",
            "Number of unique classes: 3\n"
          ]
        }
      ],
      "source": [
        "# Step 2: Load and Prepare the Dataset\n",
        "iris = load_iris()\n",
        "X = iris.data\n",
        "y = iris.target\n",
        "feature_names = iris.feature_names\n",
        "target_names = iris.target_names\n",
        "\n",
        "# Number of samples\n",
        "num_samples = X.shape[0]\n",
        "# Number of features\n",
        "num_features = X.shape[1]\n",
        "# Number of unique classes\n",
        "num_classes = len(set(y))\n",
        "\n",
        "print(f'Number of samples: {num_samples}')\n",
        "print(f'Number of features: {num_features}')\n",
        "print(f'Number of unique classes: {num_classes}')"
      ],
      "id": "FzVpwvGQDhXb"
    },
    {
      "cell_type": "code",
      "source": [
        "#strain and split\n",
        "X_train, X_test, y_train, y_test = train_test_split(\n",
        "    X, y, test_size=0.3, random_state=42\n",
        ")"
      ],
      "metadata": {
        "id": "8XZUMWuzT5a0"
      },
      "id": "8XZUMWuzT5a0",
      "execution_count": 5,
      "outputs": []
    },
    {
      "cell_type": "code",
      "execution_count": 9,
      "metadata": {
        "id": "oPgZakDsDhXc",
        "colab": {
          "base_uri": "https://localhost:8080/"
        },
        "outputId": "c275a35b-04d1-4d6a-b6c5-ad35d780c97e"
      },
      "outputs": [
        {
          "output_type": "stream",
          "name": "stdout",
          "text": [
            "\n",
            "Decision Tree - Train Accuracy: 100.00%\n",
            "Decision Tree - Test Accuracy: 100.00%\n",
            "\n",
            "Decision Tree Classification Report:\n",
            "               precision    recall  f1-score   support\n",
            "\n",
            "      setosa       1.00      1.00      1.00        19\n",
            "  versicolor       1.00      1.00      1.00        13\n",
            "   virginica       1.00      1.00      1.00        13\n",
            "\n",
            "    accuracy                           1.00        45\n",
            "   macro avg       1.00      1.00      1.00        45\n",
            "weighted avg       1.00      1.00      1.00        45\n",
            "\n"
          ]
        }
      ],
      "source": [
        "#  Decision Tree Classifier\n",
        "dt_model = DecisionTreeClassifier(random_state=42)\n",
        "dt_model.fit(X_train, y_train)\n",
        "\n",
        "y_pred_dt = dt_model.predict(X_test)\n",
        "\n",
        "train_accuracy_dt = dt_model.score(X_train, y_train)\n",
        "test_accuracy_dt = dt_model.score(X_test, y_test)\n",
        "\n",
        "print(f\"\\nDecision Tree - Train Accuracy: {train_accuracy_dt*100:.2f}%\")\n",
        "print(f\"Decision Tree - Test Accuracy: {test_accuracy_dt*100:.2f}%\")\n",
        "\n",
        "dt_report = classification_report(y_test, y_pred_dt, target_names=target_names)\n",
        "print(\"\\nDecision Tree Classification Report:\\n\", dt_report)"
      ],
      "id": "oPgZakDsDhXc"
    },
    {
      "cell_type": "code",
      "execution_count": 14,
      "metadata": {
        "id": "E8WVijWoDhXc",
        "colab": {
          "base_uri": "https://localhost:8080/"
        },
        "outputId": "bb43e2ad-83b9-4a5f-ed5a-e326d1bedf8b"
      },
      "outputs": [
        {
          "output_type": "stream",
          "name": "stdout",
          "text": [
            "\n",
            "Sample 1: [[5.1, 3.5, 1.4, 0.2]] => Predicted Class: setosa\n"
          ]
        }
      ],
      "source": [
        "# Step 7: Predict Custom Samples\n",
        "sample1 = [[5.1, 3.5, 1.4, 0.2]]\n",
        "\n",
        "\n",
        "predicted_class1 = dt_model.predict(sample1)\n",
        "\n",
        "\n",
        "print(f\"\\nSample 1: {sample1} => Predicted Class: {target_names[predicted_class1[0]]}\")\n"
      ],
      "id": "E8WVijWoDhXc"
    },
    {
      "cell_type": "code",
      "source": [
        "sample2 = [[6.1, 4.1, 3.8, 2.4]]\n",
        "predicted_class2 = dt_model.predict(sample2)\n",
        "\n",
        "print(f\"Sample 2: {sample2} => Predicted Class: {target_names[predicted_class2[0]]}\")"
      ],
      "metadata": {
        "colab": {
          "base_uri": "https://localhost:8080/"
        },
        "id": "9wqLlqcxeyu8",
        "outputId": "9232fd46-373a-4905-e649-a8f3d5808a03"
      },
      "id": "9wqLlqcxeyu8",
      "execution_count": 16,
      "outputs": [
        {
          "output_type": "stream",
          "name": "stdout",
          "text": [
            "Sample 2: [[6.1, 4.1, 3.8, 2.4]] => Predicted Class: virginica\n"
          ]
        }
      ]
    }
  ],
  "metadata": {
    "kernelspec": {
      "display_name": "Python 3",
      "language": "python",
      "name": "python3"
    },
    "language_info": {
      "name": "python",
      "version": "3.8.5"
    },
    "colab": {
      "provenance": []
    }
  },
  "nbformat": 4,
  "nbformat_minor": 5
}